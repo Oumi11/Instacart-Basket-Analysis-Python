{
 "cells": [
  {
   "cell_type": "markdown",
   "id": "17f0d527-bef0-4476-af8d-00d5cf1278ea",
   "metadata": {},
   "source": [
    "# 01.Importing librairies"
   ]
  },
  {
   "cell_type": "markdown",
   "id": "063713fb-402b-4064-971b-4bbf5db35e7f",
   "metadata": {},
   "source": [
    "# 01. Importing librairies"
   ]
  },
  {
   "cell_type": "code",
   "execution_count": 1,
   "id": "a1725b09-71fd-479a-8310-dd8c9178a1d3",
   "metadata": {},
   "outputs": [],
   "source": [
    "# Import librairies\n",
    "import pandas as pd\n",
    "import numpy as np\n",
    "import os"
   ]
  },
  {
   "cell_type": "markdown",
   "id": "b2be1d30-bbc9-41ae-8383-eedd8edd46fd",
   "metadata": {},
   "source": [
    "### ex 2 Data types training: integers"
   ]
  },
  {
   "cell_type": "code",
   "execution_count": 2,
   "id": "4c6f2c9e-b990-4045-bbee-323758a62e0b",
   "metadata": {},
   "outputs": [],
   "source": [
    "x = 2"
   ]
  },
  {
   "cell_type": "code",
   "execution_count": 3,
   "id": "d9141056-9113-4650-9967-dedad8d61dfc",
   "metadata": {},
   "outputs": [
    {
     "data": {
      "text/plain": [
       "2"
      ]
     },
     "execution_count": 3,
     "metadata": {},
     "output_type": "execute_result"
    }
   ],
   "source": [
    "x"
   ]
  },
  {
   "cell_type": "code",
   "execution_count": 4,
   "id": "1fa2d5b2-85cd-43bc-9447-54f57be827d8",
   "metadata": {},
   "outputs": [
    {
     "name": "stdout",
     "output_type": "stream",
     "text": [
      "2\n"
     ]
    }
   ],
   "source": [
    "print (x)"
   ]
  },
  {
   "cell_type": "code",
   "execution_count": 5,
   "id": "d0f665dc-d1af-40d5-b630-5f73e521f572",
   "metadata": {},
   "outputs": [
    {
     "data": {
      "text/plain": [
       "int"
      ]
     },
     "execution_count": 5,
     "metadata": {},
     "output_type": "execute_result"
    }
   ],
   "source": [
    "type (x)"
   ]
  },
  {
   "cell_type": "markdown",
   "id": "b2e2eb85-826f-4659-ab45-93ba4c247a33",
   "metadata": {},
   "source": [
    "#### floating point numbers"
   ]
  },
  {
   "cell_type": "code",
   "execution_count": 6,
   "id": "5e114dac-6941-4a22-adb4-6399738c3278",
   "metadata": {},
   "outputs": [],
   "source": [
    "y = 5.678"
   ]
  },
  {
   "cell_type": "code",
   "execution_count": 7,
   "id": "5f8404c8-a927-4fdd-8a2d-b348ed3f2e35",
   "metadata": {},
   "outputs": [
    {
     "data": {
      "text/plain": [
       "float"
      ]
     },
     "execution_count": 7,
     "metadata": {},
     "output_type": "execute_result"
    }
   ],
   "source": [
    "type (y)"
   ]
  },
  {
   "cell_type": "markdown",
   "id": "5d861860-2e8e-4ae7-ab84-25b611328975",
   "metadata": {},
   "source": [
    "#### strings: textual data"
   ]
  },
  {
   "cell_type": "code",
   "execution_count": 8,
   "id": "61d44e70-2ca2-4ac4-973d-9563ba9c0a6c",
   "metadata": {},
   "outputs": [],
   "source": [
    "z = 'Brazil'"
   ]
  },
  {
   "cell_type": "code",
   "execution_count": 10,
   "id": "19d87674-78c1-4b25-ba7f-49bb7ee85192",
   "metadata": {},
   "outputs": [
    {
     "data": {
      "text/plain": [
       "str"
      ]
     },
     "execution_count": 10,
     "metadata": {},
     "output_type": "execute_result"
    }
   ],
   "source": [
    "type (z)"
   ]
  },
  {
   "cell_type": "markdown",
   "id": "39c95922-0149-4406-ab7a-968c004c3cdc",
   "metadata": {},
   "source": [
    "#### boolean"
   ]
  },
  {
   "cell_type": "code",
   "execution_count": 11,
   "id": "27ada911-6959-40f8-b7f4-323f3ffebc78",
   "metadata": {},
   "outputs": [
    {
     "data": {
      "text/plain": [
       "bool"
      ]
     },
     "execution_count": 11,
     "metadata": {},
     "output_type": "execute_result"
    }
   ],
   "source": [
    "type (True)"
   ]
  },
  {
   "cell_type": "code",
   "execution_count": 12,
   "id": "cabd05cc-b469-4468-951a-1b5747495d7d",
   "metadata": {},
   "outputs": [
    {
     "data": {
      "text/plain": [
       "bool"
      ]
     },
     "execution_count": 12,
     "metadata": {},
     "output_type": "execute_result"
    }
   ],
   "source": [
    "type (False)"
   ]
  },
  {
   "cell_type": "markdown",
   "id": "2759c04c-be6c-4aa5-bfe8-69887c3d3e11",
   "metadata": {},
   "source": [
    "### ex 2 procedures with data types"
   ]
  },
  {
   "cell_type": "markdown",
   "id": "dafc0e57-057a-4560-add1-a0fc6181cf42",
   "metadata": {},
   "source": [
    "#### integers and floats"
   ]
  },
  {
   "cell_type": "code",
   "execution_count": 14,
   "id": "4f95eb4b-3a49-43c0-98de-2a468bab2b59",
   "metadata": {},
   "outputs": [
    {
     "name": "stdout",
     "output_type": "stream",
     "text": [
      "2\n"
     ]
    }
   ],
   "source": [
    "print (x)"
   ]
  },
  {
   "cell_type": "code",
   "execution_count": 15,
   "id": "98cb613d-97d4-48cc-b18b-bc3cfae24826",
   "metadata": {},
   "outputs": [
    {
     "data": {
      "text/plain": [
       "6"
      ]
     },
     "execution_count": 15,
     "metadata": {},
     "output_type": "execute_result"
    }
   ],
   "source": [
    "x + 4"
   ]
  },
  {
   "cell_type": "code",
   "execution_count": 16,
   "id": "ec231f93-5867-49f8-b45e-7fea56295b1b",
   "metadata": {},
   "outputs": [
    {
     "data": {
      "text/plain": [
       "7.678"
      ]
     },
     "execution_count": 16,
     "metadata": {},
     "output_type": "execute_result"
    }
   ],
   "source": [
    "x + y"
   ]
  },
  {
   "cell_type": "markdown",
   "id": "3f615336-198c-4858-83c8-98f3dccb98bb",
   "metadata": {},
   "source": [
    "#### strings"
   ]
  },
  {
   "cell_type": "code",
   "execution_count": 17,
   "id": "61fbd48b-eed7-4198-9f37-dc5e4d469381",
   "metadata": {},
   "outputs": [],
   "source": [
    "a = 'Hello, '"
   ]
  },
  {
   "cell_type": "code",
   "execution_count": 18,
   "id": "669c19e2-5ca1-4c62-bd3d-2a21a53d6817",
   "metadata": {},
   "outputs": [],
   "source": [
    "b = 'Marley'"
   ]
  },
  {
   "cell_type": "code",
   "execution_count": 19,
   "id": "158d977b-dbba-48d6-a990-167145a9fde6",
   "metadata": {},
   "outputs": [
    {
     "data": {
      "text/plain": [
       "'Hello, Marley'"
      ]
     },
     "execution_count": 19,
     "metadata": {},
     "output_type": "execute_result"
    }
   ],
   "source": [
    "a + b"
   ]
  },
  {
   "cell_type": "code",
   "execution_count": 20,
   "id": "0f953e75-41e2-487e-8bdc-b0aa4ce36c61",
   "metadata": {},
   "outputs": [],
   "source": [
    "n = \"potato\""
   ]
  },
  {
   "cell_type": "code",
   "execution_count": 21,
   "id": "90ffc0b8-7d8b-4a13-ad9e-aa5c9e5ba2f9",
   "metadata": {},
   "outputs": [
    {
     "data": {
      "text/plain": [
       "'potatopotatopotatopotatopotatopotatopotatopotatopotatopotatopotatopotato'"
      ]
     },
     "execution_count": 21,
     "metadata": {},
     "output_type": "execute_result"
    }
   ],
   "source": [
    "n * 12"
   ]
  },
  {
   "cell_type": "markdown",
   "id": "070959cd-06e0-4315-a132-8cb3bddc0ace",
   "metadata": {},
   "source": [
    "#### Booleans"
   ]
  },
  {
   "cell_type": "code",
   "execution_count": 22,
   "id": "3e7e1406-b8ad-4e62-9a63-850e3808b7a4",
   "metadata": {},
   "outputs": [
    {
     "data": {
      "text/plain": [
       "False"
      ]
     },
     "execution_count": 22,
     "metadata": {},
     "output_type": "execute_result"
    }
   ],
   "source": [
    "x == y"
   ]
  },
  {
   "cell_type": "markdown",
   "id": "b97e6cc1-fab7-4895-9d4a-cd9b19a52d42",
   "metadata": {},
   "source": [
    "# Achievement 4 Task 2 Oumaima Salmi"
   ]
  },
  {
   "cell_type": "markdown",
   "id": "94635e57-1799-41fb-bbcb-9efcb2de0376",
   "metadata": {},
   "source": [
    "## Python Data Types"
   ]
  },
  {
   "cell_type": "code",
   "execution_count": 23,
   "id": "d6746641-b9c1-4a19-b403-96a3322f520d",
   "metadata": {},
   "outputs": [],
   "source": [
    "q = 10"
   ]
  },
  {
   "cell_type": "code",
   "execution_count": 24,
   "id": "e96a6b0e-c081-4a5f-b4a8-ee6dbae89bda",
   "metadata": {},
   "outputs": [],
   "source": [
    "w = 120"
   ]
  },
  {
   "cell_type": "code",
   "execution_count": 25,
   "id": "23662da7-cb35-4a3f-9c84-a7cf2a4392c8",
   "metadata": {},
   "outputs": [
    {
     "data": {
      "text/plain": [
       "100"
      ]
     },
     "execution_count": 25,
     "metadata": {},
     "output_type": "execute_result"
    }
   ],
   "source": [
    "q * 10"
   ]
  },
  {
   "cell_type": "code",
   "execution_count": 26,
   "id": "20263e00-f865-4fd4-b73a-75874c7eb6bf",
   "metadata": {},
   "outputs": [
    {
     "data": {
      "text/plain": [
       "100"
      ]
     },
     "execution_count": 26,
     "metadata": {},
     "output_type": "execute_result"
    }
   ],
   "source": [
    "w - 20"
   ]
  },
  {
   "cell_type": "code",
   "execution_count": 27,
   "id": "89afd23d-4dd4-404c-b32d-9db34b7f186f",
   "metadata": {},
   "outputs": [
    {
     "data": {
      "text/plain": [
       "100"
      ]
     },
     "execution_count": 27,
     "metadata": {},
     "output_type": "execute_result"
    }
   ],
   "source": [
    "q + q + q + q + q + q + q + q + q + q"
   ]
  },
  {
   "cell_type": "code",
   "execution_count": 28,
   "id": "d54fdfc9-8fbc-43a2-9a3e-74c0c69a4e4e",
   "metadata": {},
   "outputs": [],
   "source": [
    "e= 18.5"
   ]
  },
  {
   "cell_type": "code",
   "execution_count": 29,
   "id": "4b62e5f3-ab24-4e49-83c6-c98f3979038e",
   "metadata": {},
   "outputs": [],
   "source": [
    "f= 29.5"
   ]
  },
  {
   "cell_type": "code",
   "execution_count": 30,
   "id": "63f0b140-d892-418d-bd60-6cf5b4529775",
   "metadata": {},
   "outputs": [
    {
     "data": {
      "text/plain": [
       "0.6271186440677966"
      ]
     },
     "execution_count": 30,
     "metadata": {},
     "output_type": "execute_result"
    }
   ],
   "source": [
    "e/f"
   ]
  },
  {
   "cell_type": "code",
   "execution_count": 31,
   "id": "bb637afe-9b9e-48c8-9c3c-1a53f518fee1",
   "metadata": {},
   "outputs": [],
   "source": [
    "r= \" I am \""
   ]
  },
  {
   "cell_type": "code",
   "execution_count": 32,
   "id": "ea0fdfb6-4ec0-427f-b45d-85669037c739",
   "metadata": {},
   "outputs": [],
   "source": [
    "t= \"hungry\""
   ]
  },
  {
   "cell_type": "code",
   "execution_count": 33,
   "id": "c5bd9e55-83be-4c68-b77a-796a8ae7d8cd",
   "metadata": {},
   "outputs": [
    {
     "data": {
      "text/plain": [
       "' I am hungry'"
      ]
     },
     "execution_count": 33,
     "metadata": {},
     "output_type": "execute_result"
    }
   ],
   "source": [
    "r + t"
   ]
  },
  {
   "cell_type": "code",
   "execution_count": 34,
   "id": "f3395400-7294-49fd-8b83-5756c4172966",
   "metadata": {},
   "outputs": [],
   "source": [
    "z= \"Let's play \""
   ]
  },
  {
   "cell_type": "code",
   "execution_count": 35,
   "id": "4817959f-0593-4663-a04b-fb82be7f6eb0",
   "metadata": {},
   "outputs": [],
   "source": [
    "u= \"volleyball!\""
   ]
  },
  {
   "cell_type": "code",
   "execution_count": 36,
   "id": "6164a3b1-63aa-4d60-bf27-222c07eca7df",
   "metadata": {},
   "outputs": [
    {
     "data": {
      "text/plain": [
       "\"Let's play volleyball!\""
      ]
     },
     "execution_count": 36,
     "metadata": {},
     "output_type": "execute_result"
    }
   ],
   "source": [
    "z + u"
   ]
  },
  {
   "cell_type": "code",
   "execution_count": 37,
   "id": "37b33f0f-d79a-4e05-91ba-5210065bd412",
   "metadata": {},
   "outputs": [
    {
     "data": {
      "text/plain": [
       "\"Let's play volleyball!Let's play volleyball!Let's play volleyball!Let's play volleyball!Let's play volleyball!Let's play volleyball!Let's play volleyball!Let's play volleyball!Let's play volleyball!Let's play volleyball!Let's play volleyball!Let's play volleyball!Let's play volleyball!Let's play volleyball!Let's play volleyball!Let's play volleyball!Let's play volleyball!Let's play volleyball!Let's play volleyball!Let's play volleyball!Let's play volleyball!Let's play volleyball!Let's play volleyball!Let's play volleyball!Let's play volleyball!Let's play volleyball!Let's play volleyball!Let's play volleyball!Let's play volleyball!Let's play volleyball!Let's play volleyball!Let's play volleyball!Let's play volleyball!Let's play volleyball!Let's play volleyball!Let's play volleyball!Let's play volleyball!Let's play volleyball!Let's play volleyball!Let's play volleyball!Let's play volleyball!Let's play volleyball!Let's play volleyball!Let's play volleyball!Let's play volleyball!Let's play volleyball!Let's play volleyball!Let's play volleyball!Let's play volleyball!Let's play volleyball!Let's play volleyball!Let's play volleyball!Let's play volleyball!Let's play volleyball!Let's play volleyball!Let's play volleyball!Let's play volleyball!Let's play volleyball!Let's play volleyball!Let's play volleyball!Let's play volleyball!Let's play volleyball!Let's play volleyball!Let's play volleyball!Let's play volleyball!Let's play volleyball!Let's play volleyball!Let's play volleyball!Let's play volleyball!Let's play volleyball!Let's play volleyball!Let's play volleyball!Let's play volleyball!Let's play volleyball!Let's play volleyball!Let's play volleyball!Let's play volleyball!Let's play volleyball!Let's play volleyball!Let's play volleyball!Let's play volleyball!Let's play volleyball!Let's play volleyball!Let's play volleyball!Let's play volleyball!Let's play volleyball!Let's play volleyball!Let's play volleyball!Let's play volleyball!Let's play volleyball!Let's play volleyball!Let's play volleyball!Let's play volleyball!Let's play volleyball!Let's play volleyball!Let's play volleyball!Let's play volleyball!Let's play volleyball!Let's play volleyball!Let's play volleyball!\""
      ]
     },
     "execution_count": 37,
     "metadata": {},
     "output_type": "execute_result"
    }
   ],
   "source": [
    "(z+u) *100"
   ]
  },
  {
   "cell_type": "code",
   "execution_count": null,
   "id": "56b754e6-39c4-404c-b2db-080410848a51",
   "metadata": {},
   "outputs": [],
   "source": []
  }
 ],
 "metadata": {
  "kernelspec": {
   "display_name": "Python 3 (ipykernel)",
   "language": "python",
   "name": "python3"
  },
  "language_info": {
   "codemirror_mode": {
    "name": "ipython",
    "version": 3
   },
   "file_extension": ".py",
   "mimetype": "text/x-python",
   "name": "python",
   "nbconvert_exporter": "python",
   "pygments_lexer": "ipython3",
   "version": "3.11.7"
  }
 },
 "nbformat": 4,
 "nbformat_minor": 5
}
